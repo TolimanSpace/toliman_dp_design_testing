{
 "cells": [
  {
   "cell_type": "markdown",
   "metadata": {},
   "source": [
    "### Characterising pixel response of BFS-U3-200S6M Sensor 📸\n",
    "\n",
    "We want to model the non-linear response per pixel to incoming photons (of various ${\\lambda}$ and across intensities).\n",
    "\n",
    "There are multiple sources of noise that vary with wavelength (e.g. flicker or 1/f noise) and incoming intensity (e.g. shot noise) - \n",
    "to simplify analysis we will just fit a curve to each of these pixel responses outlined by:\n",
    "https://www1.cs.columbia.edu/CAVE/publications/pdfs/Grossberg_PAMI04.pdf \n",
    "\n",
    "Lets try a gamma curve (bunch of lit refs that follow):\n",
    "${f(E) = \\alpha + \\beta E^\\gamma}$\n",
    "\n",
    "Useful when performing phase retrieval (can only retrieve as good as your model represents)\n",
    "(probably over-kill but this is an interesting task regardless)\n",
    "\n",
    "Using 635nm laser source 🔴"
   ]
  },
  {
   "cell_type": "code",
   "execution_count": 19,
   "metadata": {},
   "outputs": [],
   "source": [
    "import numpy as np\n",
    "import os\n",
    "from glob import glob\n",
    "import matplotlib.pyplot as plt\n",
    "\n",
    "from scipy.optimize import curve_fit\n",
    "from scipy.interpolate import PchipInterpolator\n"
   ]
  },
  {
   "cell_type": "markdown",
   "metadata": {},
   "source": [
    "### BFS Detector Info\n",
    "CCD (Charge Coupled Device) sensors can be descirbed by a single value for readout noise because all charge is transported across the chip and read at a single corner of the array.\n",
    "\n",
    "CMOS (Complementrary Metal-Oxide Semiconductor) sensors however have individual amplifier circuits per pixel, with each pixel/photosite read individually - so need per pixel read out noise to descibe these. **The BFS is a CMOS** detector\n",
    "\n",
    "Shutters closed/0s exposure will give you readout noise"
   ]
  },
  {
   "cell_type": "markdown",
   "metadata": {},
   "source": [
    "### Load and Process Raw frames\n",
    "**NOTE**: running this once is fine. Will take quite some time (~7hr on toliman lab PC). Reading directly from Morgana2 drive.\n",
    "\n",
    "Lets do average at each pixel and use the SEM as the error"
   ]
  },
  {
   "cell_type": "code",
   "execution_count": 4,
   "metadata": {},
   "outputs": [
    {
     "name": "stdout",
     "output_type": "stream",
     "text": [
      "File path exists?: True\n",
      "/Volumes/Morgana2/gpir9156/toliman/detector/luminance_4000_500us_0gain_img_stack_batch_0.npy\n"
     ]
    }
   ],
   "source": [
    "exit()\n",
    "fname_to_get = \"Z:\\gpir9156/toliman/detector\" # Reading from Morgana because there is just so much data (300GB worth...)\n",
    "                                            # Ran this on toliman laptop because faster\n",
    "                                            # to access Morgana on my Mac: \"/Volumes/Morgana2/gpir9156/toliman/detector\" \n",
    "\n",
    "fname_to_save = \"data/toliman/detector/\"\n",
    "print(\"File path exists?: {}\".format(os.path.exists(fname_to_get)))\n",
    "\n",
    "# start with the luminance files for each exposure (80us and 500us)\n",
    "count = 0 # for my sanity\n",
    "for name in os.listdir(fname_to_get):\n",
    "    dir_name = os.path.join(fname_to_get, name)\n",
    "    if name.endswith(\".npy\") and name.startswith(\"luminance\"):\n",
    "        print(\"Count: {}\".format(count))\n",
    "        print(name)\n",
    "        count += 1\n",
    "        data = np.load(dir_name)\n",
    "        mean = np.mean(data, axis=0)\n",
    "        stdev = np.std(data, axis=0)\n",
    "        n = data.shape[0]\n",
    "\n",
    "        SEM = stdev/np.sqrt(n)\n",
    "\n",
    "        if not name.startswith(\"luminance\"):\n",
    "            print(\"Wrong file format\")\n",
    "            break\n",
    "\n",
    "        if \"80us\" in name:\n",
    "            _idx = name[10:].find(\"_\") \n",
    "            fname = fname_to_save + \"80us_detector/luminance_\" + name[10:10+_idx] \n",
    "            np.save(file=fname + \"_mean.npy\", arr = mean )\n",
    "            np.save(file=fname + \"_SEM.npy\", arr = SEM )\n",
    "\n",
    "        elif \"500us\" in name:\n",
    "            _idx = name[10:].find(\"_\") \n",
    "            fname = fname_to_save + \"500us_detector/luminance_\" + name[10:10+_idx] \n",
    "            np.save(file=fname + \"_mean.npy\", arr = mean )\n",
    "            np.save(file=fname + \"_SEM.npy\", arr = SEM )\n",
    "\n",
    "        else:\n",
    "            print(\"Un-identified exposure in {}\".format(name))\n",
    "\n",
    "# shutters\n",
    "# for some reason one batch is corrupted - excluding\n",
    "exclude = [\"shutters_80us_0gain_img_stack_batch_2.npy\"]\n",
    "shutters_80us_means, shutters_500us_means = [],[] #okay to avg/std these out at the end since n is same for all\n",
    "shutters_80us_SEMS, shutters_500us_SEMS = [],[]\n",
    "for name in os.listdir(fname_to_get):\n",
    "    if name.endswith(\".npy\") and name.startswith(\"shutters\") and name not in exclude:\n",
    "        dir_name = os.path.join(fname_to_get, name)\n",
    "        print(\"Count: {}\".format(count))\n",
    "        count +=1\n",
    "        print(name)\n",
    "        data = np.load(dir_name, allow_pickle=False)\n",
    "\n",
    "        mean = np.mean(data, axis=0)\n",
    "        stdev = np.std(data, axis=0)\n",
    "    \n",
    "        if \"80us\" in name:\n",
    "            shutters_80us_means.append(mean)\n",
    "            shutters_80us_SEMS.append(stdev)\n",
    "        elif \"500us\" in name:\n",
    "            shutters_500us_means.append(mean)\n",
    "            shutters_500us_SEMS.append(stdev)\n",
    "        else:\n",
    "            print(\"Un-identified exposure in {}\".format(name))\n",
    "\n",
    "print(np.asarray(shutters_500us_means).shape)\n",
    "print(np.asarray(shutters_80us_means).shape)\n",
    "mean_shutters_80us = np.mean(np.asarray(shutters_80us_means), axis=0)\n",
    "mean_shutters_500us = np.mean(np.asarray(shutters_500us_means), axis=0)\n",
    "SEM_shutters_80us = np.std(np.asarray(shutters_80us_SEMS) , axis=0)/np.sqrt(600) #200 frames per batch\n",
    "SEM_shutters_500us = np.std(np.asarray(shutters_500us_SEMS), axis=0)/np.sqrt(600)\n",
    "\n",
    "fname = fname_to_save + \"80us_detector/shutters\"\n",
    "np.save(file=fname + \"_mean.npy\", arr = mean_shutters_80us )\n",
    "np.save(file=fname + \"_SEM.npy\", arr = SEM_shutters_80us )\n",
    "\n",
    "fname = fname_to_save + \"500us_detector/shutters\"\n",
    "np.save(file=fname + \"_mean.npy\", arr = mean_shutters_500us )\n",
    "np.save(file=fname + \"_SEM.npy\", arr = SEM_shutters_500us )\n"
   ]
  },
  {
   "cell_type": "markdown",
   "metadata": {},
   "source": [
    "#### Create Nice Dataframe \n",
    "\n",
    "Again - can run this just once to save files. Takes ~20min to run on my Mac"
   ]
  },
  {
   "cell_type": "code",
   "execution_count": 20,
   "metadata": {},
   "outputs": [
    {
     "name": "stdout",
     "output_type": "stream",
     "text": [
      "File path exists?: True\n",
      "luminance_10000_SEM.npy\n",
      "luminance_10000_mean.npy\n",
      "luminance_1000_SEM.npy\n",
      "luminance_1000_mean.npy\n",
      "luminance_20000_SEM.npy\n",
      "luminance_20000_mean.npy\n",
      "luminance_2000_SEM.npy\n",
      "luminance_2000_mean.npy\n",
      "luminance_25000_SEM.npy\n",
      "luminance_25000_mean.npy\n",
      "luminance_30000_SEM.npy\n",
      "luminance_30000_mean.npy\n",
      "luminance_3000_SEM.npy\n",
      "luminance_3000_mean.npy\n",
      "luminance_35000_SEM.npy\n",
      "luminance_35000_mean.npy\n",
      "luminance_40000_SEM.npy\n",
      "luminance_40000_mean.npy\n",
      "luminance_45000_SEM.npy\n",
      "luminance_45000_mean.npy\n",
      "luminance_50000_SEM.npy\n",
      "luminance_50000_mean.npy\n",
      "luminance_5000_SEM.npy\n",
      "luminance_5000_mean.npy\n",
      "luminance_500_SEM.npy\n",
      "luminance_500_mean.npy\n",
      "luminance_52500_SEM.npy\n",
      "luminance_52500_mean.npy\n",
      "luminance_6000_SEM.npy\n",
      "luminance_6000_mean.npy\n",
      "luminance_7000_SEM.npy\n",
      "luminance_7000_mean.npy\n",
      "luminance_8000_SEM.npy\n",
      "luminance_8000_mean.npy\n",
      "luminance_9000_SEM.npy\n",
      "luminance_9000_mean.npy\n",
      "shutters_SEM.npy\n",
      "shutters_mean.npy\n",
      "Luminances shape: (19,)\n",
      " SEMs shape: (19, 3648, 5472)\n",
      " Means shape: (19, 3648, 5472)\n",
      "File path exists?: True\n",
      "luminance_1000_SEM.npy\n",
      "luminance_1000_mean.npy\n",
      "luminance_2000_SEM.npy\n",
      "luminance_2000_mean.npy\n",
      "luminance_3000_SEM.npy\n",
      "luminance_3000_mean.npy\n",
      "luminance_4000_SEM.npy\n",
      "luminance_4000_mean.npy\n",
      "luminance_5000_SEM.npy\n",
      "luminance_5000_mean.npy\n",
      "luminance_500_SEM.npy\n",
      "luminance_500_mean.npy\n",
      "luminance_6000_SEM.npy\n",
      "luminance_6000_mean.npy\n",
      "luminance_7000_SEM.npy\n",
      "luminance_7000_mean.npy\n",
      "luminance_8000_SEM.npy\n",
      "luminance_8000_mean.npy\n",
      "shutters_SEM.npy\n",
      "shutters_mean.npy\n",
      "Luminances shape: (10,)\n",
      " SEMs shape: (10, 3648, 5472)\n",
      " Means shape: (10, 3648, 5472)\n"
     ]
    }
   ],
   "source": [
    "exit()\n",
    "fname_to_get = [\"/Volumes/Morgana2/gpir9156/toliman/detector/80us_detector/\",\"/Volumes/Morgana2/gpir9156/toliman/detector/500us_detector/\"]\n",
    "fname_to_save = [\"data/80us_detector/\",\"data/500us_detector/\"]\n",
    "\n",
    "for i, fname in enumerate(fname_to_get):\n",
    "    print(\"File path exists?: {}\".format(os.path.exists(fname)))\n",
    "\n",
    "    sorted_files = sorted(os.listdir(fname))\n",
    "    n_files = len(sorted_files)\n",
    "    assert n_files % 2 == 0, \"Odd number of files in directory. Each mean file should have a corresponding SEM file\"\n",
    "\n",
    "    luminances = []\n",
    "    SEMs = []\n",
    "    means = []\n",
    "    for file in sorted_files:\n",
    "        filename = os.fsdecode(file)\n",
    "        print(filename)\n",
    "        if filename.startswith(\"luminance\"):\n",
    "            _idx = filename[10:].find(\"_\") \n",
    "            luminances.append(int(filename[10:10+_idx]))\n",
    "\n",
    "            if filename.endswith(\"SEM.npy\"):\n",
    "                SEMs.append(np.load(fname+filename))\n",
    "            else:\n",
    "                means.append(np.load(fname+filename))\n",
    "        elif filename.startswith(\"shutters\"):\n",
    "            luminances.append(0)\n",
    "            if filename.endswith(\"SEM.npy\"):\n",
    "                SEMs.append(np.load(fname+filename))\n",
    "            else:\n",
    "                means.append(np.load(fname+filename))\n",
    "        else:\n",
    "            ValueError(\"Un-identified file format.\")\n",
    "\n",
    "    SEMs = np.asarray(SEMs)\n",
    "    means = np.asarray(means)\n",
    "\n",
    "    indexes = np.unique(luminances, return_index=True)[1]\n",
    "    luminances = np.asarray([luminances[index] for index in sorted(indexes)])\n",
    "\n",
    "    print(\"Luminances shape: {}\\n SEMs shape: {}\\n Means shape: {}\".format(luminances.shape, SEMs.shape, means.shape))\n",
    "    np.save(file=fname_to_save[i] + \"luminances.npy\", arr=luminances)\n",
    "    np.save(file=fname_to_save[i] + \"means.npy\", arr=means)\n",
    "    np.save(file=fname_to_save[i] + \"SEMs.npy\", arr=SEMs)\n",
    "\n",
    "\n"
   ]
  },
  {
   "cell_type": "markdown",
   "metadata": {},
   "source": [
    "#### Display Reduced Data 👁️\n",
    "\n",
    "Luminance within 1% \n",
    "\n",
    "Detector is (3648, 5472), 2:3, so not sure best way to display this, start with 4x6 plot first? Think PC might break tbh\n",
    "\n",
    "Break up detector into areas and overlap curves\n",
    "\n",
    "#### 80us Exposure:"
   ]
  },
  {
   "cell_type": "code",
   "execution_count": 26,
   "metadata": {},
   "outputs": [],
   "source": [
    "height, width = 3648, 5472\n",
    "n_row =4\n",
    "n_col = 6\n",
    "\n",
    "y_step, x_step = height/n_row, width/n_col \n",
    "\n",
    "means = np.load(\"data/80us_detector/means.npy\")\n",
    "SEMs = np.load(\"data/80us_detector/SEMs.npy\")   \n",
    "luminances = np.load(\"data/80us_detector/luminances.npy\")\n"
   ]
  },
  {
   "cell_type": "code",
   "execution_count": 5,
   "metadata": {},
   "outputs": [
    {
     "data": {
      "image/png": "[encoded data removed]",
      "text/plain": [
       "<Figure size 2000x1000 with 1 Axes>"
      ]
     },
     "metadata": {},
     "output_type": "display_data"
    }
   ],
   "source": [
    "# This is way too intensive to plot all curves\n",
    "exit()\n",
    "plt.figure(figsize=(20, 10))\n",
    "for subplot_row in range(n_row):\n",
    "    for subplot_col in range(n_col):\n",
    "        subplot = subplot_row*n_col + subplot_col + 1\n",
    "        plt.subplot(n_row, n_col, subplot)\n",
    "\n",
    "        y_min, y_max = int(subplot_row*y_step), int(y_step*(subplot_row+1)-1)\n",
    "        x_min, x_max = int(subplot_col*x_step), int(x_step*(subplot_col+1)-1)\n",
    "        sub_arr = means[:, y_min:y_max, y_min:y_max]\n",
    "\n",
    "        for i in range(sub_arr.shape[-1]):\n",
    "            for j in range(sub_arr.shape[-2]):\n",
    "                plt.plot(luminances, sub_arr[:, i, j], '--o')\n",
    "\n",
    "        plt.grid()\n",
    "        break\n",
    "\n",
    "    break\n",
    "        \n",
    "\n",
    "\n",
    "#     plt.title(\"Luminance: {}\".format(luminances[subplot]))\n",
    "#     plt.axis('off')\n",
    "\n",
    "# print(means[0].shape)\n"
   ]
  },
  {
   "cell_type": "markdown",
   "metadata": {},
   "source": [
    "#### Fitting Time 🧥\n",
    "\n",
    "Single pixel to test."
   ]
  },
  {
   "cell_type": "code",
   "execution_count": 40,
   "metadata": {},
   "outputs": [
    {
     "name": "stdout",
     "output_type": "stream",
     "text": [
      "R^2: 0.99994\n"
     ]
    },
    {
     "data": {
      "image/png": "[encoded data removed]",
      "text/plain": [
       "<Figure size 640x480 with 1 Axes>"
      ]
     },
     "metadata": {},
     "output_type": "display_data"
    }
   ],
   "source": [
    "# try fitting one frame\n",
    "# plt.errorbar(luminances, means[:,0,0], yerr=SEMs[:,0,0], marker = 'o', linestyle='') #errors are so small you don't see the error bars (idk if this is a machine error thing)\n",
    "# print(SEMs[:,0,0])\n",
    "\n",
    "idx_sort = np.argsort(luminances)\n",
    "sorted_luminances = luminances[idx_sort]\n",
    "y = means[:,0,0]\n",
    "y = y[idx_sort]\n",
    "\n",
    "\n",
    "plt.plot(sorted_luminances, y, marker = 'o', linestyle='', label=\"Data\")\n",
    "interp_fn = PchipInterpolator(x=sorted_luminances, y=y)\n",
    "x_interp = np.linspace(sorted_luminances[0], sorted_luminances[-1], 100)\n",
    "y_interp = interp_fn(x_interp)\n",
    "plt.plot(x_interp, y_interp, 'k',label=\"Interpolated curve\")\n",
    "\n",
    "# Fit\n",
    "def gamma_curve(x, alpha, beta, gamma):\n",
    "\n",
    "    return alpha + beta*(x**gamma)\n",
    "\n",
    "p0 = np.array([0,0,1.1])\n",
    "coeffs, covar = curve_fit(gamma_curve, x_interp, y_interp, p0=p0)\n",
    "fit_vals = gamma_curve(x_interp, *coeffs)\n",
    "plt.plot(x_interp, fit_vals, label=\"Gamma Fit\")\n",
    "\n",
    "plt.legend()\n",
    "r2 = 1 - (np.sum((y_interp-fit_vals)**2))/(np.sum( (y_interp-np.mean(y_interp))**2 ))\n",
    "\n",
    "print(\"R^2: {:.5f}\".format(r2))\n",
    "\n",
    "#numpy.power will let you raise by individual powers!"
   ]
  },
  {
   "cell_type": "code",
   "execution_count": 37,
   "metadata": {},
   "outputs": [
    {
     "name": "stdout",
     "output_type": "stream",
     "text": [
      "(19, 3648, 5472)\n"
     ]
    }
   ],
   "source": [
    "# Lets do it all \n",
    "\n",
    "# Sort for interpolation\n",
    "idx_sort = np.argsort(luminances)\n",
    "sorted_luminances = luminances[idx_sort]\n",
    "x_interp = np.linspace(sorted_luminances[0], sorted_luminances[-1], 100)\n",
    "\n",
    "# Fit function\n",
    "def gamma_curve(x, alpha, beta, gamma):\n",
    "\n",
    "    return alpha + beta*(x**gamma)\n",
    "\n",
    "# fit init params\n",
    "p0 = np.array([0,0,1.1])\n",
    "\n",
    "ALPHA = np.zeros(height,width)\n",
    "BETA = np.zeros(height,width)\n",
    "GAMMA = np.zeros(height,width)\n",
    "RSQR = np.zeros(height,width)\n",
    "for row_idx in range(height):\n",
    "    for col_idx in range(width):\n",
    "        y = means[:,row_idx,col_idx]\n",
    "        y = y[idx_sort]\n",
    "        interp_fn = PchipInterpolator(x=sorted_luminances, y=y)\n",
    "        y_interp = interp_fn(x_interp)\n",
    "\n",
    "        coeffs, covar = curve_fit(gamma_curve, x_interp, y_interp, p0=p0)\n",
    "        fit_vals = gamma_curve(x_interp, *coeffs)\n",
    "\n",
    "        r2 = 1 - (np.sum((y_interp-fit_vals)**2))/(np.sum( (y_interp-np.mean(y_interp))**2 ))\n",
    "\n",
    "        if r2 < 0.9:\n",
    "            print(\"({},{}) with r2 {}\".format(row_idx,col_idx,r2))\n",
    "            break\n",
    "\n",
    "        ALPHA[row_idx,col_idx] = coeffs[0]\n",
    "        BETA[row_idx,col_idx] = coeffs[1]\n",
    "        GAMMA[row_idx,col_idx] = coeffs[2]\n",
    "        RSQR[row_idx,col_idx] = r2\n"
   ]
  },
  {
   "cell_type": "markdown",
   "metadata": {},
   "source": [
    "Take intensity sweeps at two different exposures 80ms (spider data and Jewel too) and 500ms gain 0 always\n",
    "\n",
    "100 frames each \n",
    "\n",
    "0 cd/m^2 is me putting on shutters\n",
    "\n",
    "cd/m^2 range: \n",
    "cd/m^2 uncertainty: \n",
    "\n",
    "Camera left to warm up (running) for 10min\n",
    "\n",
    "Bandpass filter of 530-640nm for characterisation"
   ]
  },
  {
   "cell_type": "code",
   "execution_count": null,
   "metadata": {},
   "outputs": [],
   "source": [
    "# Fave optimiser to fit curve?\n"
   ]
  },
  {
   "cell_type": "markdown",
   "metadata": {},
   "source": [
    "#### Matrix representation"
   ]
  },
  {
   "cell_type": "code",
   "execution_count": null,
   "metadata": {},
   "outputs": [],
   "source": [
    "# For a sweep of input, uniform intensities - measure the difference between pixels (flat field)"
   ]
  }
 ],
 "metadata": {
  "kernelspec": {
   "display_name": "toliman_dp_design",
   "language": "python",
   "name": "python3"
  },
  "language_info": {
   "codemirror_mode": {
    "name": "ipython",
    "version": 3
   },
   "file_extension": ".py",
   "mimetype": "text/x-python",
   "name": "python",
   "nbconvert_exporter": "python",
   "pygments_lexer": "ipython3",
   "version": "3.12.2"
  }
 },
 "nbformat": 4,
 "nbformat_minor": 2
}
