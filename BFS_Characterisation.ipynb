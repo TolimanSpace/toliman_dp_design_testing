{
 "cells": [
  {
   "cell_type": "markdown",
   "metadata": {},
   "source": [
    "### Characterising pixel response of BFS-U3-200S6M Sensor 📸\n",
    "\n",
    "We want to model the non-linear response per pixel to incoming photons (of various ${\\lambda}$ and across intensities).\n",
    "\n",
    "There are multiple sources of noise that vary with wavelength (e.g. flicker or 1/f noise) and incoming intensity (e.g. shot noise) - \n",
    "to simplify analysis we will just fit a curve to each of these pixel responses outlined by:\n",
    "https://www1.cs.columbia.edu/CAVE/publications/pdfs/Grossberg_PAMI04.pdf \n",
    "\n",
    "Lets try a gamma curve (bunch of lit refs that follow):\n",
    "${f(E) = \\alpha + \\beta E^\\gamma}$\n",
    "\n",
    "Useful when performing phase retrieval (can only retrieve as good as your model represents)\n",
    "(probably over-kill but this is an interesting task regardless)\n",
    "\n",
    "Using 635nm laser source 🔴"
   ]
  },
  {
   "cell_type": "code",
   "execution_count": 1,
   "metadata": {},
   "outputs": [],
   "source": [
    "import numpy as np\n",
    "import matplotlib.pyplot as plt\n"
   ]
  },
  {
   "cell_type": "markdown",
   "metadata": {},
   "source": [
    "### BFS Detector\n",
    "CCD (Charge Coupled Device) sensors can be descirbed by a single value for readout noise because all charge is transported across the chip and read at a single corner of the array.\n",
    "\n",
    "CMOS (Complementrary Metal-Oxide Semiconductor) sensors however have individual amplifier circuits per pixel, with each pixel/photosite read individually - so need per pixel read out noise to descibe these. **The BFS is a CMOS** detector\n",
    "\n",
    "Shutters closed/0s exposure will give you readout noise"
   ]
  },
  {
   "cell_type": "code",
   "execution_count": null,
   "metadata": {},
   "outputs": [],
   "source": [
    "# Import data\n"
   ]
  },
  {
   "cell_type": "code",
   "execution_count": null,
   "metadata": {},
   "outputs": [],
   "source": [
    "# Fave optimiser to fit curve?\n"
   ]
  },
  {
   "cell_type": "code",
   "execution_count": null,
   "metadata": {},
   "outputs": [],
   "source": [
    "# For a sweep of input, uniform intensities - measure the difference between pixels (flat field)"
   ]
  }
 ],
 "metadata": {
  "kernelspec": {
   "display_name": "toliman_dp_design",
   "language": "python",
   "name": "python3"
  },
  "language_info": {
   "codemirror_mode": {
    "name": "ipython",
    "version": 3
   },
   "file_extension": ".py",
   "mimetype": "text/x-python",
   "name": "python",
   "nbconvert_exporter": "python",
   "pygments_lexer": "ipython3",
   "version": "3.12.2"
  }
 },
 "nbformat": 4,
 "nbformat_minor": 2
}
