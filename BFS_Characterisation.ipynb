{
 "cells": [
  {
   "cell_type": "markdown",
   "metadata": {},
   "source": [
    "### Characterising pixel response of BFS-U3-200S6M Sensor 📸\n",
    "Useful when performing phase retrieval \n",
    "(probably over-kill but this is an interesting task regardless)\n",
    "\n",
    "Using 635nm laser source 🔴"
   ]
  },
  {
   "cell_type": "code",
   "execution_count": 1,
   "metadata": {},
   "outputs": [],
   "source": [
    "import numpy as np\n",
    "import matplotlib.pyplot as plt\n"
   ]
  },
  {
   "cell_type": "markdown",
   "metadata": {},
   "source": [
    "### Defining Read Out Noise and Bias per pixel\n",
    "Measure the amount of noise that occurs in the converison between charge on pixel to voltage signal in camera.\n",
    "\n",
    "CCD (Charge Coupled Device) sensors can be descirbed by a single value for readout noise because all charge is transported across the chip and read at a single corner of the array.\n",
    "\n",
    "CMOS (Complementrary Metal-Oxide Semiconductor) sensors however have individual amplifier circuits per pixel, with each pixel/photosite read individually - so need per pixel read out noise to descibe these. **The BFS is a CMOS** detector"
   ]
  },
  {
   "cell_type": "code",
   "execution_count": null,
   "metadata": {},
   "outputs": [],
   "source": [
    "# Import data\n"
   ]
  },
  {
   "cell_type": "code",
   "execution_count": null,
   "metadata": {},
   "outputs": [],
   "source": [
    "# Calculate read noise (gives you and std around your pixel value)\n",
    "# https://www.photometrics.com/wp-content/uploads/2019/10/read-noise-calculator.pdf\n",
    "# measure gain: https://www.photometrics.com/wp-content/uploads/2019/10/mean-variance-calculator.pdf \n",
    "# measure bias images (0ms)\n",
    "\n",
    "exposure_time = 103e-6 #(s) TODO should be 0\n"
   ]
  },
  {
   "cell_type": "code",
   "execution_count": null,
   "metadata": {},
   "outputs": [],
   "source": [
    "# For a sweep of input, uniform intensities - measure the difference between pixels (flat field)"
   ]
  }
 ],
 "metadata": {
  "kernelspec": {
   "display_name": "toliman_dp_design",
   "language": "python",
   "name": "python3"
  },
  "language_info": {
   "codemirror_mode": {
    "name": "ipython",
    "version": 3
   },
   "file_extension": ".py",
   "mimetype": "text/x-python",
   "name": "python",
   "nbconvert_exporter": "python",
   "pygments_lexer": "ipython3",
   "version": "3.12.2"
  }
 },
 "nbformat": 4,
 "nbformat_minor": 2
}
