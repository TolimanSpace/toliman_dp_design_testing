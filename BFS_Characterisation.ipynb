{
 "cells": [
  {
   "cell_type": "markdown",
   "metadata": {},
   "source": [
    "### Characterising pixel response of BFS-U3-200S6M Sensor 📸\n",
    "\n",
    "We want to model the non-linear response per pixel to incoming photons (of various ${\\lambda}$ and across intensities).\n",
    "\n",
    "There are multiple sources of noise that vary with wavelength (e.g. flicker or 1/f noise) and incoming intensity (e.g. shot noise) - \n",
    "to simplify analysis we will just fit a curve to each of these pixel responses outlined by:\n",
    "https://www1.cs.columbia.edu/CAVE/publications/pdfs/Grossberg_PAMI04.pdf \n",
    "\n",
    "Lets try a gamma curve (bunch of lit refs that follow):\n",
    "${f(E) = \\alpha + \\beta E^\\gamma}$\n",
    "\n",
    "Useful when performing phase retrieval (can only retrieve as good as your model represents)\n",
    "(probably over-kill but this is an interesting task regardless)\n",
    "\n",
    "Using 635nm laser source 🔴"
   ]
  },
  {
   "cell_type": "code",
   "execution_count": 1,
   "metadata": {},
   "outputs": [],
   "source": [
    "import numpy as np\n",
    "import os\n",
    "from glob import glob\n",
    "import matplotlib.pyplot as plt\n",
    "\n",
    "from scipy.optimize import curve_fit\n",
    "from scipy.interpolate import PchipInterpolator\n",
    "\n",
    "from tqdm.notebook import tqdm\n"
   ]
  },
  {
   "cell_type": "markdown",
   "metadata": {},
   "source": [
    "### BFS Detector Info\n",
    "CCD (Charge Coupled Device) sensors can be descirbed by a single value for readout noise because all charge is transported across the chip and read at a single corner of the array.\n",
    "\n",
    "CMOS (Complementrary Metal-Oxide Semiconductor) sensors however have individual amplifier circuits per pixel, with each pixel/photosite read individually - so need per pixel read out noise to descibe these. **The BFS is a CMOS** detector\n",
    "\n",
    "Shutters closed/0s exposure will give you readout noise"
   ]
  },
  {
   "cell_type": "markdown",
   "metadata": {},
   "source": [
    "### Load and Process Raw frames\n",
    "**NOTE**: running this once is fine. Will take quite some time (~7hr on toliman lab PC). Reading directly from Morgana2 drive.\n",
    "\n",
    "Lets do average at each pixel and use the SEM as the error"
   ]
  },
  {
   "cell_type": "code",
   "execution_count": null,
   "metadata": {},
   "outputs": [],
   "source": [
    "exit()\n",
    "fname_to_get = \"Z:\\gpir9156/toliman/detector\" # Reading from Morgana because there is just so much data (300GB worth...)\n",
    "                                            # Ran this on toliman laptop because faster\n",
    "                                            # to access Morgana on my Mac: \"/Volumes/Morgana2/gpir9156/toliman/detector\" \n",
    "\n",
    "fname_to_save = \"data/toliman/detector/\"\n",
    "print(\"File path exists?: {}\".format(os.path.exists(fname_to_get)))\n",
    "\n",
    "# start with the luminance files for each exposure (80us and 500us)\n",
    "count = 0 # for my sanity\n",
    "for name in os.listdir(fname_to_get):\n",
    "    dir_name = os.path.join(fname_to_get, name)\n",
    "    if name.endswith(\".npy\") and name.startswith(\"luminance\"):\n",
    "        print(\"Count: {}\".format(count))\n",
    "        print(name)\n",
    "        count += 1\n",
    "        data = np.load(dir_name)\n",
    "        mean = np.mean(data, axis=0)\n",
    "        stdev = np.std(data, axis=0)\n",
    "        n = data.shape[0]\n",
    "\n",
    "        SEM = stdev/np.sqrt(n)\n",
    "\n",
    "        if not name.startswith(\"luminance\"):\n",
    "            print(\"Wrong file format\")\n",
    "            break\n",
    "\n",
    "        if \"80us\" in name:\n",
    "            _idx = name[10:].find(\"_\") \n",
    "            fname = fname_to_save + \"80us_detector/luminance_\" + name[10:10+_idx] \n",
    "            np.save(file=fname + \"_mean.npy\", arr = mean )\n",
    "            np.save(file=fname + \"_SEM.npy\", arr = SEM )\n",
    "\n",
    "        elif \"500us\" in name:\n",
    "            _idx = name[10:].find(\"_\") \n",
    "            fname = fname_to_save + \"500us_detector/luminance_\" + name[10:10+_idx] \n",
    "            np.save(file=fname + \"_mean.npy\", arr = mean )\n",
    "            np.save(file=fname + \"_SEM.npy\", arr = SEM )\n",
    "\n",
    "        else:\n",
    "            print(\"Un-identified exposure in {}\".format(name))\n",
    "\n",
    "# shutters\n",
    "# for some reason one batch is corrupted - excluding\n",
    "exclude = [\"shutters_80us_0gain_img_stack_batch_2.npy\"]\n",
    "shutters_80us_means, shutters_500us_means = [],[] #okay to avg/std these out at the end since n is same for all\n",
    "shutters_80us_SEMS, shutters_500us_SEMS = [],[]\n",
    "for name in os.listdir(fname_to_get):\n",
    "    if name.endswith(\".npy\") and name.startswith(\"shutters\") and name not in exclude:\n",
    "        dir_name = os.path.join(fname_to_get, name)\n",
    "        print(\"Count: {}\".format(count))\n",
    "        count +=1\n",
    "        print(name)\n",
    "        data = np.load(dir_name, allow_pickle=False)\n",
    "\n",
    "        mean = np.mean(data, axis=0)\n",
    "        stdev = np.std(data, axis=0)\n",
    "    \n",
    "        if \"80us\" in name:\n",
    "            shutters_80us_means.append(mean)\n",
    "            shutters_80us_SEMS.append(stdev)\n",
    "        elif \"500us\" in name:\n",
    "            shutters_500us_means.append(mean)\n",
    "            shutters_500us_SEMS.append(stdev)\n",
    "        else:\n",
    "            print(\"Un-identified exposure in {}\".format(name))\n",
    "\n",
    "print(np.asarray(shutters_500us_means).shape)\n",
    "print(np.asarray(shutters_80us_means).shape)\n",
    "mean_shutters_80us = np.mean(np.asarray(shutters_80us_means), axis=0)\n",
    "mean_shutters_500us = np.mean(np.asarray(shutters_500us_means), axis=0)\n",
    "SEM_shutters_80us = np.std(np.asarray(shutters_80us_SEMS) , axis=0)/np.sqrt(600) #200 frames per batch\n",
    "SEM_shutters_500us = np.std(np.asarray(shutters_500us_SEMS), axis=0)/np.sqrt(600)\n",
    "\n",
    "fname = fname_to_save + \"80us_detector/shutters\"\n",
    "np.save(file=fname + \"_mean.npy\", arr = mean_shutters_80us )\n",
    "np.save(file=fname + \"_SEM.npy\", arr = SEM_shutters_80us )\n",
    "\n",
    "fname = fname_to_save + \"500us_detector/shutters\"\n",
    "np.save(file=fname + \"_mean.npy\", arr = mean_shutters_500us )\n",
    "np.save(file=fname + \"_SEM.npy\", arr = SEM_shutters_500us )\n"
   ]
  },
  {
   "cell_type": "markdown",
   "metadata": {},
   "source": [
    "#### Create Nice Dataframe \n",
    "\n",
    "Again - can run this just once to save files. Takes ~20min to run on my Mac"
   ]
  },
  {
   "cell_type": "code",
   "execution_count": null,
   "metadata": {},
   "outputs": [],
   "source": [
    "exit()\n",
    "fname_to_get = [\"/Volumes/Morgana2/gpir9156/toliman/detector/80us_detector/\",\"/Volumes/Morgana2/gpir9156/toliman/detector/500us_detector/\"]\n",
    "fname_to_save = [\"data/80us_detector/\",\"data/500us_detector/\"]\n",
    "\n",
    "for i, fname in enumerate(fname_to_get):\n",
    "    print(\"File path exists?: {}\".format(os.path.exists(fname)))\n",
    "\n",
    "    sorted_files = sorted(os.listdir(fname))\n",
    "    n_files = len(sorted_files)\n",
    "    assert n_files % 2 == 0, \"Odd number of files in directory. Each mean file should have a corresponding SEM file\"\n",
    "\n",
    "    luminances = []\n",
    "    SEMs = []\n",
    "    means = []\n",
    "    for file in sorted_files:\n",
    "        filename = os.fsdecode(file)\n",
    "        print(filename)\n",
    "        if filename.startswith(\"luminance\"):\n",
    "            _idx = filename[10:].find(\"_\") \n",
    "            luminances.append(int(filename[10:10+_idx]))\n",
    "\n",
    "            if filename.endswith(\"SEM.npy\"):\n",
    "                SEMs.append(np.load(fname+filename))\n",
    "            else:\n",
    "                means.append(np.load(fname+filename))\n",
    "        elif filename.startswith(\"shutters\"):\n",
    "            luminances.append(0)\n",
    "            if filename.endswith(\"SEM.npy\"):\n",
    "                SEMs.append(np.load(fname+filename))\n",
    "            else:\n",
    "                means.append(np.load(fname+filename))\n",
    "        else:\n",
    "            ValueError(\"Un-identified file format.\")\n",
    "\n",
    "    SEMs = np.asarray(SEMs)\n",
    "    means = np.asarray(means)\n",
    "\n",
    "    indexes = np.unique(luminances, return_index=True)[1]\n",
    "    luminances = np.asarray([luminances[index] for index in sorted(indexes)])\n",
    "\n",
    "    print(\"Luminances shape: {}\\n SEMs shape: {}\\n Means shape: {}\".format(luminances.shape, SEMs.shape, means.shape))\n",
    "    np.save(file=fname_to_save[i] + \"luminances.npy\", arr=luminances)\n",
    "    np.save(file=fname_to_save[i] + \"means.npy\", arr=means)\n",
    "    np.save(file=fname_to_save[i] + \"SEMs.npy\", arr=SEMs)\n",
    "\n",
    "\n"
   ]
  },
  {
   "cell_type": "markdown",
   "metadata": {},
   "source": [
    "#### Display Reduced Data 👁️\n",
    "\n",
    "Luminance within 1% \n",
    "\n",
    "Detector is (3648, 5472), 2:3, so not sure best way to display this, start with 4x6 plot first? Think PC might break tbh\n",
    "\n",
    "#### 80us Exposure:"
   ]
  },
  {
   "cell_type": "code",
   "execution_count": 2,
   "metadata": {},
   "outputs": [],
   "source": [
    "height, width = 3648, 5472\n",
    "n_row =4\n",
    "n_col = 6\n",
    "\n",
    "y_step, x_step = height/n_row, width/n_col \n",
    "\n",
    "means = np.load(\"data/80us_detector/means.npy\")\n",
    "SEMs = np.load(\"data/80us_detector/SEMs.npy\")   \n",
    "luminances = np.load(\"data/80us_detector/luminances.npy\")\n"
   ]
  },
  {
   "cell_type": "code",
   "execution_count": null,
   "metadata": {},
   "outputs": [],
   "source": [
    "# This is way too intensive to plot all curves\n",
    "exit()\n",
    "plt.figure(figsize=(20, 10))\n",
    "for subplot_row in range(n_row):\n",
    "    for subplot_col in range(n_col):\n",
    "        subplot = subplot_row*n_col + subplot_col + 1\n",
    "        plt.subplot(n_row, n_col, subplot)\n",
    "\n",
    "        y_min, y_max = int(subplot_row*y_step), int(y_step*(subplot_row+1)-1)\n",
    "        x_min, x_max = int(subplot_col*x_step), int(x_step*(subplot_col+1)-1)\n",
    "        sub_arr = means[:, y_min:y_max, y_min:y_max]\n",
    "\n",
    "        for i in range(sub_arr.shape[-1]):\n",
    "            for j in range(sub_arr.shape[-2]):\n",
    "                plt.plot(luminances, sub_arr[:, i, j], '--o')\n",
    "\n",
    "        plt.grid()\n",
    "        break\n",
    "\n",
    "    break\n",
    "        \n",
    "\n",
    "\n",
    "#     plt.title(\"Luminance: {}\".format(luminances[subplot]))\n",
    "#     plt.axis('off')\n",
    "\n",
    "# print(means[0].shape)\n"
   ]
  },
  {
   "cell_type": "markdown",
   "metadata": {},
   "source": [
    "#### Fitting Time 🧥\n",
    "\n",
    "Single pixel to test."
   ]
  },
  {
   "cell_type": "code",
   "execution_count": 3,
   "metadata": {},
   "outputs": [
    {
     "name": "stdout",
     "output_type": "stream",
     "text": [
      "R^2: 0.99994\n"
     ]
    },
    {
     "data": {
      "image/png": "[encoded data removed]",
      "text/plain": [
       "<Figure size 640x480 with 1 Axes>"
      ]
     },
     "metadata": {},
     "output_type": "display_data"
    }
   ],
   "source": [
    "# try fitting one frame\n",
    "# plt.errorbar(luminances, means[:,0,0], yerr=SEMs[:,0,0], marker = 'o', linestyle='') #errors are so small you don't see the error bars (idk if this is a machine error thing)\n",
    "# print(SEMs[:,0,0])\n",
    "\n",
    "idx_sort = np.argsort(luminances)\n",
    "sorted_luminances = luminances[idx_sort]\n",
    "y = means[:,0,0]\n",
    "y = y[idx_sort]\n",
    "\n",
    "\n",
    "plt.plot(sorted_luminances, y, marker = 'o', linestyle='', label=\"Data\")\n",
    "interp_fn = PchipInterpolator(x=sorted_luminances, y=y)\n",
    "x_interp = np.linspace(sorted_luminances[0], sorted_luminances[-1], 100)\n",
    "y_interp = interp_fn(x_interp)\n",
    "plt.plot(x_interp, y_interp, 'k',label=\"Interpolated curve\")\n",
    "\n",
    "# Fit\n",
    "def gamma_curve(x, alpha, beta, gamma):\n",
    "\n",
    "    return alpha + beta*(x**gamma)\n",
    "\n",
    "p0 = np.array([0,0,1.1])\n",
    "coeffs, covar = curve_fit(gamma_curve, x_interp, y_interp, p0=p0)\n",
    "fit_vals = gamma_curve(x_interp, *coeffs)\n",
    "plt.plot(x_interp, fit_vals, label=\"Gamma Fit\")\n",
    "\n",
    "plt.legend()\n",
    "r2 = 1 - (np.sum((y_interp-fit_vals)**2))/(np.sum( (y_interp-np.mean(y_interp))**2 ))\n",
    "\n",
    "print(\"R^2: {:.5f}\".format(r2))\n",
    "\n",
    "#numpy.power will let you raise by individual powers!"
   ]
  },
  {
   "cell_type": "code",
   "execution_count": 4,
   "metadata": {},
   "outputs": [
    {
     "data": {
      "application/vnd.jupyter.widget-view+json": {
       "model_id": "07e8ce09769944dbbf6ea7d6e5775052",
       "version_major": 2,
       "version_minor": 0
      },
      "text/plain": [
       "Pixel (row,col):   0%|          | 0/19961856 [00:00<?, ?it/s]"
      ]
     },
     "metadata": {},
     "output_type": "display_data"
    },
    {
     "ename": "KeyboardInterrupt",
     "evalue": "",
     "output_type": "error",
     "traceback": [
      "\u001b[0;31m---------------------------------------------------------------------------\u001b[0m",
      "\u001b[0;31mKeyboardInterrupt\u001b[0m                         Traceback (most recent call last)",
      "Cell \u001b[0;32mIn[4], line 29\u001b[0m\n\u001b[1;32m     26\u001b[0m interp_fn \u001b[38;5;241m=\u001b[39m PchipInterpolator(x\u001b[38;5;241m=\u001b[39msorted_luminances, y\u001b[38;5;241m=\u001b[39my)\n\u001b[1;32m     27\u001b[0m y_interp \u001b[38;5;241m=\u001b[39m interp_fn(x_interp)\n\u001b[0;32m---> 29\u001b[0m coeffs, covar \u001b[38;5;241m=\u001b[39m \u001b[43mcurve_fit\u001b[49m\u001b[43m(\u001b[49m\u001b[43mgamma_curve\u001b[49m\u001b[43m,\u001b[49m\u001b[43m \u001b[49m\u001b[43mx_interp\u001b[49m\u001b[43m,\u001b[49m\u001b[43m \u001b[49m\u001b[43my_interp\u001b[49m\u001b[43m,\u001b[49m\u001b[43m \u001b[49m\u001b[43mp0\u001b[49m\u001b[38;5;241;43m=\u001b[39;49m\u001b[43mp0\u001b[49m\u001b[43m)\u001b[49m\n\u001b[1;32m     30\u001b[0m fit_vals \u001b[38;5;241m=\u001b[39m gamma_curve(x_interp, \u001b[38;5;241m*\u001b[39mcoeffs)\n\u001b[1;32m     32\u001b[0m r2 \u001b[38;5;241m=\u001b[39m \u001b[38;5;241m1\u001b[39m \u001b[38;5;241m-\u001b[39m (np\u001b[38;5;241m.\u001b[39msum((y_interp\u001b[38;5;241m-\u001b[39mfit_vals)\u001b[38;5;241m*\u001b[39m\u001b[38;5;241m*\u001b[39m\u001b[38;5;241m2\u001b[39m))\u001b[38;5;241m/\u001b[39m(np\u001b[38;5;241m.\u001b[39msum( (y_interp\u001b[38;5;241m-\u001b[39mnp\u001b[38;5;241m.\u001b[39mmean(y_interp))\u001b[38;5;241m*\u001b[39m\u001b[38;5;241m*\u001b[39m\u001b[38;5;241m2\u001b[39m ))\n",
      "File \u001b[0;32m~/anaconda3/envs/toliman_dp_design/lib/python3.12/site-packages/scipy/optimize/_minpack_py.py:963\u001b[0m, in \u001b[0;36mcurve_fit\u001b[0;34m(f, xdata, ydata, p0, sigma, absolute_sigma, check_finite, bounds, method, jac, full_output, nan_policy, **kwargs)\u001b[0m\n\u001b[1;32m    960\u001b[0m \u001b[38;5;28;01mif\u001b[39;00m ydata\u001b[38;5;241m.\u001b[39msize \u001b[38;5;241m!=\u001b[39m \u001b[38;5;241m1\u001b[39m \u001b[38;5;129;01mand\u001b[39;00m n \u001b[38;5;241m>\u001b[39m ydata\u001b[38;5;241m.\u001b[39msize:\n\u001b[1;32m    961\u001b[0m     \u001b[38;5;28;01mraise\u001b[39;00m \u001b[38;5;167;01mTypeError\u001b[39;00m(\u001b[38;5;124mf\u001b[39m\u001b[38;5;124m\"\u001b[39m\u001b[38;5;124mThe number of func parameters=\u001b[39m\u001b[38;5;132;01m{\u001b[39;00mn\u001b[38;5;132;01m}\u001b[39;00m\u001b[38;5;124m must not\u001b[39m\u001b[38;5;124m\"\u001b[39m\n\u001b[1;32m    962\u001b[0m                     \u001b[38;5;124mf\u001b[39m\u001b[38;5;124m\"\u001b[39m\u001b[38;5;124m exceed the number of data points=\u001b[39m\u001b[38;5;132;01m{\u001b[39;00mydata\u001b[38;5;241m.\u001b[39msize\u001b[38;5;132;01m}\u001b[39;00m\u001b[38;5;124m\"\u001b[39m)\n\u001b[0;32m--> 963\u001b[0m res \u001b[38;5;241m=\u001b[39m \u001b[43mleastsq\u001b[49m\u001b[43m(\u001b[49m\u001b[43mfunc\u001b[49m\u001b[43m,\u001b[49m\u001b[43m \u001b[49m\u001b[43mp0\u001b[49m\u001b[43m,\u001b[49m\u001b[43m \u001b[49m\u001b[43mDfun\u001b[49m\u001b[38;5;241;43m=\u001b[39;49m\u001b[43mjac\u001b[49m\u001b[43m,\u001b[49m\u001b[43m \u001b[49m\u001b[43mfull_output\u001b[49m\u001b[38;5;241;43m=\u001b[39;49m\u001b[38;5;241;43m1\u001b[39;49m\u001b[43m,\u001b[49m\u001b[43m \u001b[49m\u001b[38;5;241;43m*\u001b[39;49m\u001b[38;5;241;43m*\u001b[39;49m\u001b[43mkwargs\u001b[49m\u001b[43m)\u001b[49m\n\u001b[1;32m    964\u001b[0m popt, pcov, infodict, errmsg, ier \u001b[38;5;241m=\u001b[39m res\n\u001b[1;32m    965\u001b[0m ysize \u001b[38;5;241m=\u001b[39m \u001b[38;5;28mlen\u001b[39m(infodict[\u001b[38;5;124m'\u001b[39m\u001b[38;5;124mfvec\u001b[39m\u001b[38;5;124m'\u001b[39m])\n",
      "File \u001b[0;32m~/anaconda3/envs/toliman_dp_design/lib/python3.12/site-packages/scipy/optimize/_minpack_py.py:428\u001b[0m, in \u001b[0;36mleastsq\u001b[0;34m(func, x0, args, Dfun, full_output, col_deriv, ftol, xtol, gtol, maxfev, epsfcn, factor, diag)\u001b[0m\n\u001b[1;32m    426\u001b[0m     \u001b[38;5;28;01mif\u001b[39;00m maxfev \u001b[38;5;241m==\u001b[39m \u001b[38;5;241m0\u001b[39m:\n\u001b[1;32m    427\u001b[0m         maxfev \u001b[38;5;241m=\u001b[39m \u001b[38;5;241m200\u001b[39m\u001b[38;5;241m*\u001b[39m(n \u001b[38;5;241m+\u001b[39m \u001b[38;5;241m1\u001b[39m)\n\u001b[0;32m--> 428\u001b[0m     retval \u001b[38;5;241m=\u001b[39m \u001b[43m_minpack\u001b[49m\u001b[38;5;241;43m.\u001b[39;49m\u001b[43m_lmdif\u001b[49m\u001b[43m(\u001b[49m\u001b[43mfunc\u001b[49m\u001b[43m,\u001b[49m\u001b[43m \u001b[49m\u001b[43mx0\u001b[49m\u001b[43m,\u001b[49m\u001b[43m \u001b[49m\u001b[43margs\u001b[49m\u001b[43m,\u001b[49m\u001b[43m \u001b[49m\u001b[43mfull_output\u001b[49m\u001b[43m,\u001b[49m\u001b[43m \u001b[49m\u001b[43mftol\u001b[49m\u001b[43m,\u001b[49m\u001b[43m \u001b[49m\u001b[43mxtol\u001b[49m\u001b[43m,\u001b[49m\n\u001b[1;32m    429\u001b[0m \u001b[43m                             \u001b[49m\u001b[43mgtol\u001b[49m\u001b[43m,\u001b[49m\u001b[43m \u001b[49m\u001b[43mmaxfev\u001b[49m\u001b[43m,\u001b[49m\u001b[43m \u001b[49m\u001b[43mepsfcn\u001b[49m\u001b[43m,\u001b[49m\u001b[43m \u001b[49m\u001b[43mfactor\u001b[49m\u001b[43m,\u001b[49m\u001b[43m \u001b[49m\u001b[43mdiag\u001b[49m\u001b[43m)\u001b[49m\n\u001b[1;32m    430\u001b[0m \u001b[38;5;28;01melse\u001b[39;00m:\n\u001b[1;32m    431\u001b[0m     \u001b[38;5;28;01mif\u001b[39;00m col_deriv:\n",
      "File \u001b[0;32m~/anaconda3/envs/toliman_dp_design/lib/python3.12/site-packages/scipy/optimize/_minpack_py.py:507\u001b[0m, in \u001b[0;36m_lightweight_memoizer.<locals>._memoized_func\u001b[0;34m(params)\u001b[0m\n\u001b[1;32m    504\u001b[0m \u001b[38;5;28;01mif\u001b[39;00m np\u001b[38;5;241m.\u001b[39mall(_memoized_func\u001b[38;5;241m.\u001b[39mlast_params \u001b[38;5;241m==\u001b[39m params):\n\u001b[1;32m    505\u001b[0m     \u001b[38;5;28;01mreturn\u001b[39;00m _memoized_func\u001b[38;5;241m.\u001b[39mlast_val\n\u001b[0;32m--> 507\u001b[0m val \u001b[38;5;241m=\u001b[39m \u001b[43mf\u001b[49m\u001b[43m(\u001b[49m\u001b[43mparams\u001b[49m\u001b[43m)\u001b[49m\n\u001b[1;32m    509\u001b[0m \u001b[38;5;28;01mif\u001b[39;00m _memoized_func\u001b[38;5;241m.\u001b[39mlast_params \u001b[38;5;129;01mis\u001b[39;00m \u001b[38;5;28;01mNone\u001b[39;00m:\n\u001b[1;32m    510\u001b[0m     _memoized_func\u001b[38;5;241m.\u001b[39mlast_params \u001b[38;5;241m=\u001b[39m np\u001b[38;5;241m.\u001b[39mcopy(params)\n",
      "File \u001b[0;32m~/anaconda3/envs/toliman_dp_design/lib/python3.12/site-packages/scipy/optimize/_minpack_py.py:523\u001b[0m, in \u001b[0;36m_wrap_func.<locals>.func_wrapped\u001b[0;34m(params)\u001b[0m\n\u001b[1;32m    522\u001b[0m \u001b[38;5;28;01mdef\u001b[39;00m \u001b[38;5;21mfunc_wrapped\u001b[39m(params):\n\u001b[0;32m--> 523\u001b[0m     \u001b[38;5;28;01mreturn\u001b[39;00m \u001b[43mfunc\u001b[49m\u001b[43m(\u001b[49m\u001b[43mxdata\u001b[49m\u001b[43m,\u001b[49m\u001b[43m \u001b[49m\u001b[38;5;241;43m*\u001b[39;49m\u001b[43mparams\u001b[49m\u001b[43m)\u001b[49m \u001b[38;5;241m-\u001b[39m ydata\n",
      "Cell \u001b[0;32mIn[4], line 9\u001b[0m, in \u001b[0;36mgamma_curve\u001b[0;34m(x, alpha, beta, gamma)\u001b[0m\n\u001b[1;32m      6\u001b[0m x_interp \u001b[38;5;241m=\u001b[39m np\u001b[38;5;241m.\u001b[39mlinspace(sorted_luminances[\u001b[38;5;241m0\u001b[39m], sorted_luminances[\u001b[38;5;241m-\u001b[39m\u001b[38;5;241m1\u001b[39m], \u001b[38;5;241m100\u001b[39m)\n\u001b[1;32m      8\u001b[0m \u001b[38;5;66;03m# Fit function\u001b[39;00m\n\u001b[0;32m----> 9\u001b[0m \u001b[38;5;28;01mdef\u001b[39;00m \u001b[38;5;21mgamma_curve\u001b[39m(x, alpha, beta, gamma):\n\u001b[1;32m     11\u001b[0m     \u001b[38;5;28;01mreturn\u001b[39;00m alpha \u001b[38;5;241m+\u001b[39m beta\u001b[38;5;241m*\u001b[39m(x\u001b[38;5;241m*\u001b[39m\u001b[38;5;241m*\u001b[39mgamma)\n\u001b[1;32m     13\u001b[0m \u001b[38;5;66;03m# fit init params\u001b[39;00m\n",
      "\u001b[0;31mKeyboardInterrupt\u001b[0m: "
     ]
    }
   ],
   "source": [
    "# Lets do it all \n",
    "\n",
    "# Sort for interpolation\n",
    "idx_sort = np.argsort(luminances)\n",
    "sorted_luminances = luminances[idx_sort]\n",
    "x_interp = np.linspace(sorted_luminances[0], sorted_luminances[-1], 100)\n",
    "\n",
    "# Fit function\n",
    "def gamma_curve(x, alpha, beta, gamma):\n",
    "\n",
    "    return alpha + beta*(x**gamma)\n",
    "\n",
    "# fit init params\n",
    "p0 = np.array([0,0,1.1])\n",
    "\n",
    "ALPHA = np.zeros((height,width))\n",
    "BETA = np.zeros((height,width))\n",
    "GAMMA = np.zeros((height,width))\n",
    "RSQR = np.zeros((height,width))\n",
    "outer_break = False\n",
    "progress_bar = tqdm(range(height*width), desc='Pixel (row,col): ')\n",
    "for row_idx in range(height):\n",
    "    for col_idx in range(width):\n",
    "        y = means[:,row_idx,col_idx]\n",
    "        y = y[idx_sort]\n",
    "        interp_fn = PchipInterpolator(x=sorted_luminances, y=y)\n",
    "        y_interp = interp_fn(x_interp)\n",
    "\n",
    "        coeffs, covar = curve_fit(gamma_curve, x_interp, y_interp, p0=p0)\n",
    "        fit_vals = gamma_curve(x_interp, *coeffs)\n",
    "\n",
    "        r2 = 1 - (np.sum((y_interp-fit_vals)**2))/(np.sum( (y_interp-np.mean(y_interp))**2 ))\n",
    "\n",
    "        if r2 < 0.9:\n",
    "            print(\"({},{}) with r2 {}\".format(row_idx,col_idx,r2))\n",
    "            outer_break = True\n",
    "            break\n",
    "\n",
    "        ALPHA[row_idx,col_idx] = coeffs[0]\n",
    "        BETA[row_idx,col_idx] = coeffs[1]\n",
    "        GAMMA[row_idx,col_idx] = coeffs[2]\n",
    "        RSQR[row_idx,col_idx] = r2\n",
    "\n",
    "        progress_bar.set_postfix({'Pixel (row,col): ':(row_idx,col_idx)})\n",
    "\n",
    "    if outer_break:\n",
    "        break\n",
    "\n",
    "\n"
   ]
  },
  {
   "cell_type": "code",
   "execution_count": null,
   "metadata": {},
   "outputs": [],
   "source": [
    "# Save matrices\n",
    "np.save(\"data/80us_detector/ALPHA.npy\", ALPHA)\n",
    "np.save(\"data/80us_detector/BETA.npy\", BETA)\n",
    "np.save(\"data/80us_detector/GAMMA.npy\", GAMMA)\n",
    "np.save(\"data/80us_detector/RSQR.npy\", RSQR)\n"
   ]
  },
  {
   "cell_type": "code",
   "execution_count": null,
   "metadata": {},
   "outputs": [],
   "source": [
    "# Plot coeff distribution \n",
    "plt.figure(figsize=(10,10))\n",
    "plt.subplot(2,2,1)\n",
    "plt.imshow(ALPHA, cmap='cividis')\n",
    "plt.colorbar()\n",
    "plt.title(\"Alpha\")\n",
    "plt.subplot(2,2,2)\n",
    "plt.imshow(BETA, cmap='cividis')\n",
    "plt.colorbar()\n",
    "plt.subplot(2,2,3)\n",
    "plt.imshow(GAMMA, cmap='cividis')\n",
    "plt.colorbar()\n",
    "plt.title(\"Gamma\")\n",
    "plt.subplot(2,2,4)\n",
    "plt.imshow(RSQR, cmap='cividis')\n",
    "plt.colorbar()\n",
    "plt.title(\"R^2 of Gamma Curve Fit\")"
   ]
  },
  {
   "cell_type": "markdown",
   "metadata": {},
   "source": [
    "#### 500us Exposure:"
   ]
  },
  {
   "cell_type": "code",
   "execution_count": null,
   "metadata": {},
   "outputs": [],
   "source": [
    "means = np.load(\"data/500us_detector/means.npy\")\n",
    "SEMs = np.load(\"data/500us_detector/SEMs.npy\")   \n",
    "luminances = np.load(\"data/500us_detector/luminances.npy\")"
   ]
  },
  {
   "cell_type": "code",
   "execution_count": null,
   "metadata": {},
   "outputs": [],
   "source": [
    "idx_sort = np.argsort(luminances)\n",
    "sorted_luminances = luminances[idx_sort]\n",
    "x_interp = np.linspace(sorted_luminances[0], sorted_luminances[-1], 100)\n",
    "\n",
    "\n",
    "ALPHA = np.zeros((height,width))\n",
    "BETA = np.zeros((height,width))\n",
    "GAMMA = np.zeros((height,width))\n",
    "RSQR = np.zeros((height,width))\n",
    "outer_break = False\n",
    "for row_idx in range(height):\n",
    "    for col_idx in range(width):\n",
    "        y = means[:,row_idx,col_idx]\n",
    "        y = y[idx_sort]\n",
    "        interp_fn = PchipInterpolator(x=sorted_luminances, y=y)\n",
    "        y_interp = interp_fn(x_interp)\n",
    "\n",
    "        coeffs, covar = curve_fit(gamma_curve, x_interp, y_interp, p0=p0)\n",
    "        fit_vals = gamma_curve(x_interp, *coeffs)\n",
    "\n",
    "        r2 = 1 - (np.sum((y_interp-fit_vals)**2))/(np.sum( (y_interp-np.mean(y_interp))**2 ))\n",
    "\n",
    "        if r2 < 0.9:\n",
    "            print(\"({},{}) with r2 {}\".format(row_idx,col_idx,r2))\n",
    "            outer_break = True\n",
    "            break\n",
    "\n",
    "        ALPHA[row_idx,col_idx] = coeffs[0]\n",
    "        BETA[row_idx,col_idx] = coeffs[1]\n",
    "        GAMMA[row_idx,col_idx] = coeffs[2]\n",
    "        RSQR[row_idx,col_idx] = r2\n",
    "        print(\"({},{}) with r2 {}\".format(row_idx,col_idx,r2))\n",
    "\n",
    "    if outer_break:\n",
    "        break\n",
    "\n",
    "\n"
   ]
  },
  {
   "cell_type": "code",
   "execution_count": null,
   "metadata": {},
   "outputs": [],
   "source": [
    "# Save matrices\n",
    "np.save(\"data/500us_detector/ALPHA.npy\", ALPHA)\n",
    "np.save(\"data/500us_detector/BETA.npy\", BETA)\n",
    "np.save(\"data/500us_detector/GAMMA.npy\", GAMMA)\n",
    "np.save(\"data/500us_detector/RSQR.npy\", RSQR)\n"
   ]
  },
  {
   "cell_type": "markdown",
   "metadata": {},
   "source": [
    "Take intensity sweeps at two different exposures 80ms (spider data and Jewel too) and 500ms gain 0 always\n",
    "\n",
    "100 frames each \n",
    "\n",
    "0 cd/m^2 is me putting on shutters\n",
    "\n",
    "cd/m^2 range: \n",
    "cd/m^2 uncertainty: \n",
    "\n",
    "Camera left to warm up (running) for 10min\n",
    "\n",
    "Bandpass filter of 530-640nm for characterisation"
   ]
  },
  {
   "cell_type": "code",
   "execution_count": null,
   "metadata": {},
   "outputs": [],
   "source": [
    "# Fave optimiser to fit curve?\n"
   ]
  },
  {
   "cell_type": "markdown",
   "metadata": {},
   "source": [
    "#### Matrix representation"
   ]
  },
  {
   "cell_type": "code",
   "execution_count": null,
   "metadata": {},
   "outputs": [],
   "source": [
    "# For a sweep of input, uniform intensities - measure the difference between pixels (flat field)"
   ]
  }
 ],
 "metadata": {
  "kernelspec": {
   "display_name": "toliman_dp_design",
   "language": "python",
   "name": "python3"
  },
  "language_info": {
   "codemirror_mode": {
    "name": "ipython",
    "version": 3
   },
   "file_extension": ".py",
   "mimetype": "text/x-python",
   "name": "python",
   "nbconvert_exporter": "python",
   "pygments_lexer": "ipython3",
   "version": "3.12.2"
  }
 },
 "nbformat": 4,
 "nbformat_minor": 2
}
