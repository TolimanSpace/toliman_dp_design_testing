{
 "cells": [
  {
   "cell_type": "markdown",
   "metadata": {},
   "source": [
    "### Characterising pixel response of BFS-U3-200S6M Sensor 📸\n",
    "\n",
    "We want to model the non-linear response per pixel to incoming photons (of various ${\\lambda}$ and across intensities).\n",
    "\n",
    "There are multiple sources of noise that vary with wavelength (e.g. flicker or 1/f noise) and incoming intensity (e.g. shot noise) - \n",
    "to simplify analysis we will just fit a curve to each of these pixel responses outlined by:\n",
    "https://www1.cs.columbia.edu/CAVE/publications/pdfs/Grossberg_PAMI04.pdf \n",
    "\n",
    "Lets try a gamma curve (bunch of lit refs that follow):\n",
    "${f(E) = \\alpha + \\beta E^\\gamma}$\n",
    "\n",
    "Useful when performing phase retrieval (can only retrieve as good as your model represents)\n",
    "(probably over-kill but this is an interesting task regardless)\n",
    "\n",
    "Using 635nm laser source 🔴"
   ]
  },
  {
   "cell_type": "code",
   "execution_count": 2,
   "metadata": {},
   "outputs": [],
   "source": [
    "import numpy as np\n",
    "import os\n",
    "from glob import glob\n",
    "import matplotlib.pyplot as plt\n"
   ]
  },
  {
   "cell_type": "markdown",
   "metadata": {},
   "source": [
    "### BFS Detector Info\n",
    "CCD (Charge Coupled Device) sensors can be descirbed by a single value for readout noise because all charge is transported across the chip and read at a single corner of the array.\n",
    "\n",
    "CMOS (Complementrary Metal-Oxide Semiconductor) sensors however have individual amplifier circuits per pixel, with each pixel/photosite read individually - so need per pixel read out noise to descibe these. **The BFS is a CMOS** detector\n",
    "\n",
    "Shutters closed/0s exposure will give you readout noise"
   ]
  },
  {
   "cell_type": "markdown",
   "metadata": {},
   "source": [
    "### Load and Process Raw frames\n",
    "**NOTE**: running this once is fine. Will take quite some time (~7hr on toliman lab PC). Reading directly from Morgana2 drive.\n",
    "\n",
    "Lets do average at each pixel and use the SEM as the error"
   ]
  },
  {
   "cell_type": "code",
   "execution_count": 4,
   "metadata": {},
   "outputs": [
    {
     "name": "stdout",
     "output_type": "stream",
     "text": [
      "File path exists?: True\n",
      "/Volumes/Morgana2/gpir9156/toliman/detector/luminance_4000_500us_0gain_img_stack_batch_0.npy\n"
     ]
    }
   ],
   "source": [
    "exit()\n",
    "fname_to_get = \"Z:\\gpir9156/toliman/detector\" # Reading from Morgana because there is just so much data (300GB worth...)\n",
    "                                            # Ran this on toliman laptop because faster\n",
    "                                            # to access Morgana on my Mac: \"/Volumes/Morgana2/gpir9156/toliman/detector\" \n",
    "\n",
    "fname_to_save = \"data/toliman/detector/\"\n",
    "print(\"File path exists?: {}\".format(os.path.exists(fname_to_get)))\n",
    "\n",
    "# start with the luminance files for each exposure (80us and 500us)\n",
    "count = 0 # for my sanity\n",
    "for name in os.listdir(fname_to_get):\n",
    "    dir_name = os.path.join(fname_to_get, name)\n",
    "    if name.endswith(\".npy\"):\n",
    "        print(\"Count: {}\".format(count))\n",
    "        count += 1\n",
    "        data = np.load(dir_name)\n",
    "        mean = np.mean(data, axis=0)\n",
    "        stdev = np.std(data, axis=0)\n",
    "        n = data.shape[0]\n",
    "\n",
    "        SEM = stdev/np.sqrt(n)\n",
    "\n",
    "        if not name.startswith(\"luminance\"):\n",
    "            print(\"Wrong file format\")\n",
    "            break\n",
    "\n",
    "        if \"80us\" in name:\n",
    "            _idx = name[10:].find(\"_\") \n",
    "            fname = fname_to_save + \"80us_detector/luminance_\" + name[10:10+_idx] \n",
    "            np.save(file=fname + \"_mean.npy\", arr = mean )\n",
    "            np.save(file=fname + \"_SEM.npy\", arr = SEM )\n",
    "\n",
    "        elif \"500us\" in name:\n",
    "            _idx = name[10:].find(\"_\") \n",
    "            fname = fname_to_save + \"500us_detector/luminance_\" + name[10:10+_idx] \n",
    "            np.save(file=fname + \"_mean.npy\", arr = mean )\n",
    "            np.save(file=fname + \"_SEM.npy\", arr = SEM )\n",
    "\n",
    "        else:\n",
    "            print(\"Un-identified exposure in {}\".format(name))\n"
   ]
  },
  {
   "cell_type": "code",
   "execution_count": 10,
   "metadata": {},
   "outputs": [
    {
     "name": "stdout",
     "output_type": "stream",
     "text": [
      "{}\n"
     ]
    }
   ],
   "source": []
  },
  {
   "cell_type": "markdown",
   "metadata": {},
   "source": [
    "Take intensity sweeps at two different exposures 80ms (spider data and Jewel too) and 500ms gain 0 always\n",
    "\n",
    "100 frames each \n",
    "\n",
    "0 cd/m^2 is me putting on shutters\n",
    "\n",
    "cd/m^2 range: \n",
    "cd/m^2 uncertainty: \n",
    "\n",
    "Camera left to warm up (running) for 10min\n",
    "\n",
    "Bandpass filter of 530-640nm for characterisation"
   ]
  },
  {
   "cell_type": "code",
   "execution_count": null,
   "metadata": {},
   "outputs": [],
   "source": [
    "# Fave optimiser to fit curve?\n"
   ]
  },
  {
   "cell_type": "code",
   "execution_count": null,
   "metadata": {},
   "outputs": [],
   "source": [
    "# For a sweep of input, uniform intensities - measure the difference between pixels (flat field)"
   ]
  }
 ],
 "metadata": {
  "kernelspec": {
   "display_name": "toliman_dp_design",
   "language": "python",
   "name": "python3"
  },
  "language_info": {
   "codemirror_mode": {
    "name": "ipython",
    "version": 3
   },
   "file_extension": ".py",
   "mimetype": "text/x-python",
   "name": "python",
   "nbconvert_exporter": "python",
   "pygments_lexer": "ipython3",
   "version": "3.12.2"
  }
 },
 "nbformat": 4,
 "nbformat_minor": 2
}
