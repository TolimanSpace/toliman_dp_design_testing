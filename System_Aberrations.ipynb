{
 "cells": [
  {
   "cell_type": "markdown",
   "metadata": {},
   "source": [
    "#### TOLIMAN Pupil Gluing Analysis: Preliminary Measurements\n",
    "\n",
    "**Aim:**  \n",
    "To determine:\n",
    "1. The optical aberrations induced by the lab setup for pupil testing (consisting of 2 OAPs)\n",
    "2. The intensity distribution ouput from the optical fiber output for later modelling\n",
    "\n",
    "If we can show these aberrations are static over a long enough period of time (~1hr) then we can confiendtly remove them from the phase retrieval analysis of the later measurements (glued vs non-glued).\n",
    "\n",
    "We have chosen to place a spider mask (necessary asymmetry) within the collimated beam to characterise these aberrations via phase retrieval (thank u differentiable modelling/dLux 💖)"
   ]
  },
  {
   "cell_type": "code",
   "execution_count": null,
   "metadata": {},
   "outputs": [],
   "source": [
    "import dLux as dl\n",
    "import dLux.utils as dlu\n",
    "\n",
    "\n",
    "import jax.numpy as jnp\n",
    "import numpy as np\n",
    "import jax.random as jr\n",
    "import jax.scipy as jsp\n",
    "from jax import vmap  \n",
    "\n",
    "import zodiax as zdx\n",
    "import optax\n",
    "from tqdm.notebook import tqdm\n",
    "\n",
    "from skimage.io import imread\n",
    "\n",
    "import matplotlib.pyplot as plt\n",
    "from matplotlib.colors import PowerNorm\n",
    "\n",
    "plt.rcParams['image.cmap'] = 'inferno'\n",
    "plt.rcParams[\"font.family\"] = \"serif\"\n",
    "plt.rcParams[\"image.origin\"] = 'lower'\n",
    "plt.rcParams['figure.dpi'] = 72\n",
    "plt.rcParams['figure.figsize'] = (10,10)\n",
    "plt.rcParams[\"axes.titlesize\"] = 18\n",
    "plt.rcParams[\"figure.titlesize\"] = 18\n",
    "plt.rcParams[\"axes.labelsize\"] = 15"
   ]
  },
  {
   "cell_type": "code",
   "execution_count": null,
   "metadata": {},
   "outputs": [],
   "source": [
    "# ------- Physical Parameters ---------------------------------------------------------------------#\n",
    "aperture_npix = 2000  # Number of pixels across the aperture\n",
    "aperture_diameter = 126e-3    # (m)\n",
    "spider_width = 20e-3          # Spider width (m)\n",
    "spider_angle = 90              # Spider angle (degrees), clockwise, 0 is spider pointing vertically up\n",
    "\n",
    "# Observations wavelengths (bandpass of 530-640nm)\n",
    "wavelengths = np.linspace(530e-9, 640e-9, 100)  # Wavelengths to simulate (m)\n",
    "laser_wavelength =  635e-09  # for laser data\n",
    "wf_npixels = aperture_npix  # Number of pixels across the wavefront\n",
    "wf_diam = aperture_diameter             # Diameter of initial wavefront to propagate wavefront (m)\n",
    "\n",
    "# Dtector parameters (BFS-U3-200S6-BD)\n",
    "BFS_px_sep = 2.4e-6 *1e3        # pixel separation (mm)\n",
    "f_det = 2000                     # Focal length from OAP2 to detector (mm) TODO\n",
    "px_ang_sep = 2*np.arctan( (BFS_px_sep/2)/f_det ) # angular sep between pixels (rad)\n",
    "\n",
    "# Simulated Detector\n",
    "psf_npix = 3600                # Number of pixels along one dim of the PSF\n",
    "oversample = 1                 # Oversampling factor for the PSF\n",
    "psf_pixel_scale = 80e-4 #dlu.rad2arcsec(px_ang_sep) * oversample # arcsec (to match detector plate scale)\n"
   ]
  },
  {
   "cell_type": "code",
   "execution_count": null,
   "metadata": {},
   "outputs": [],
   "source": [
    "# --- Simulate Spider -----------------------------------------------------------------#\n",
    "coords = dlu.pixel_coords(npixels=aperture_npix, diameter=aperture_diameter)\n",
    "circle = dlu.circle(coords=coords, radius=aperture_diameter/2) \n",
    "spider = dlu.spider(coords=coords, width=spider_width, angles=[90])\n",
    "transmission = dlu.combine([circle, spider], oversample)\n",
    "\n",
    "# Zernike aberrations\n",
    "zernike_indexes = jnp.arange(2, 11) # up to 10th noll idxs (excluding piston)\n",
    "coeffs = jnp.zeros(zernike_indexes.shape)\n",
    "basis = dlu.zernike_basis(js=zernike_indexes, coordinates=coords, diameter=aperture_diameter)\n",
    "\n",
    "layers = [\n",
    "    ('aperture', dl.layers.BasisOptic(basis, transmission, coeffs, normalise=True))\n",
    "]\n",
    "\n",
    "# Construct Optics\n",
    "optics = dl.AngularOpticalSystem(wf_npixels = wf_npixels, \n",
    "                                diameter=wf_diam, \n",
    "                                layers=layers, \n",
    "                                psf_npixels=psf_npix, \n",
    "                                psf_pixel_scale=psf_pixel_scale,\n",
    "                                oversample=oversample)\n",
    "\n",
    "sim_psf = optics.propagate_mono(laser_wavelength)\n",
    "opd = optics.aperture.eval_basis()\n",
    "\n",
    "# Show setup and transmission results\n",
    "plt.figure(figsize=(15,5))\n",
    "plt.subplot(1,2,1)\n",
    "plt.imshow(transmission)\n",
    "plt.colorbar()\n",
    "plt.title('Transmission')\n",
    "plt.subplot(1,2,2)\n",
    "norm_psf = PowerNorm(0.2, vmax=sim_psf.max(), vmin=sim_psf.min())\n",
    "plt.imshow(sim_psf, norm=norm_psf)\n",
    "plt.title('sqrt PSF (laser)')\n",
    "plt.colorbar()\n",
    "\n"
   ]
  },
  {
   "cell_type": "markdown",
   "metadata": {},
   "source": [
    "#### Load in some ✨real✨ data 🌈"
   ]
  },
  {
   "cell_type": "code",
   "execution_count": null,
   "metadata": {},
   "outputs": [],
   "source": [
    "fname = \"data/lab_data/4_4_glued_002_mean_image.png\"\n",
    "data = imread(fname, as_gray=True) \n",
    "\n",
    "# Scale intensity\n",
    "current_range = data.max() - data.min()\n",
    "new_range = sim_psf.max() - sim_psf.min()\n",
    "scaled_data = ( (data - data.min()) * new_range )/current_range + sim_psf.min()"
   ]
  },
  {
   "cell_type": "markdown",
   "metadata": {},
   "source": [
    "#### Phase Retrieval"
   ]
  },
  {
   "cell_type": "code",
   "execution_count": null,
   "metadata": {},
   "outputs": [],
   "source": [
    "# Loss functions (jit-compiled)\n",
    "param = 'aperture.coefficients'\n",
    "\n",
    "# Poisson log-likelihood\n",
    "flux_scale = 1e13 # scale factor for flux to help poission log-likelihood calc\n",
    "@zdx.filter_jit\n",
    "@zdx.filter_value_and_grad(param)\n",
    "def loss_fn_poisson(model, data, wavelength_center):\n",
    "    \"\"\"\n",
    "        Poisson log-likelihood loss function calculated over multiple psfs. \n",
    "\n",
    "        jsp.stats.poisson.logpmf returns the log of the Probability Mass Function (PMF)\n",
    "        for a poisson distribution. By maximum likelihood estimation, we can optimise \n",
    "        the system by minimising the negative log-likelihood, i.e. the negative of the\n",
    "        output from jsp.stats.poisson.logpmf (summed over)\n",
    "\n",
    "        Parameters\n",
    "        ----------\n",
    "        model : dLux model\n",
    "            dLux model to propagate the wavefront\n",
    "        data : Array\n",
    "            Array of data\n",
    "        wavelength_center : float   \n",
    "    \"\"\"\n",
    "    simu_psf = model.propagate_mono(wavelength_center)\n",
    "\n",
    "    return -jsp.stats.poisson.logpmf(k = simu_psf, mu = data).sum()\n"
   ]
  },
  {
   "cell_type": "code",
   "execution_count": null,
   "metadata": {},
   "outputs": [],
   "source": [
    "learning_rate = 1e-10\n",
    "optim, opt_state = zdx.get_optimiser(optics, param, optax.adam(learning_rate)) \n",
    "\n",
    "progress_bar = tqdm(range(200), desc='Loss: ')\n",
    "\n",
    "# Run optimisation loop \n",
    "net_losses, models = [], []\n",
    "for i in progress_bar:\n",
    "    loss, grads = loss_fn_poisson(model = optics, data = scaled_data, wavelength_center = laser_wavelength)\n",
    "    updates, opt_state = optim.update(grads, opt_state)\n",
    "    optics = zdx.apply_updates(optics, updates)\n",
    "\n",
    "    net_losses.append(loss)\n",
    "    models.append(optics)\n",
    "    \n",
    "    progress_bar.set_postfix({'Loss': loss})"
   ]
  },
  {
   "cell_type": "code",
   "execution_count": null,
   "metadata": {},
   "outputs": [],
   "source": [
    "# Visualise results\n",
    "plt.figure()\n",
    "plt.plot(np.array(net_losses))\n",
    "ax = plt.gca()\n",
    "ax.set_title(\"Training History\")\n",
    "ax.set_xlabel(\"Training Epoch\")\n",
    "ax.set_ylabel(\"Poisson Log-Likelihood\")\n",
    "\n",
    "plt.rcParams['figure.figsize'] = (17, 17)\n",
    "plt.rcParams['image.cmap'] = 'inferno'\n",
    "\n",
    "plt.figure()\n",
    "norm_psf = PowerNorm(0.2, vmax=scaled_data.max(), vmin=scaled_data.min())\n",
    "plt.subplot(1,3,1)\n",
    "plt.imshow(scaled_data, norm=norm_psf)\n",
    "plt.colorbar()\n",
    "plt.title('Data')\n",
    "plt.subplot(1,3,2)\n",
    "model_psf = optics.propagate_mono(laser_wavelength)\n",
    "plt.imshow(model_psf, norm=norm_psf)\n",
    "plt.title('Model')\n",
    "plt.colorbar()\n",
    "plt.subplot(1,3,3)\n",
    "opd = optics.aperture.eval_basis()\n",
    "plt.imshow(opd*transmission)\n",
    "plt.title('Retrieved Aberrations')\n",
    "plt.colorbar()"
   ]
  },
  {
   "cell_type": "markdown",
   "metadata": {},
   "source": []
  }
 ],
 "metadata": {
  "kernelspec": {
   "display_name": "toliman_dp_design",
   "language": "python",
   "name": "python3"
  },
  "language_info": {
   "codemirror_mode": {
    "name": "ipython",
    "version": 3
   },
   "file_extension": ".py",
   "mimetype": "text/x-python",
   "name": "python",
   "nbconvert_exporter": "python",
   "pygments_lexer": "ipython3",
   "version": "3.12.2"
  }
 },
 "nbformat": 4,
 "nbformat_minor": 2
}
